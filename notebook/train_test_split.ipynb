{
 "cells": [
  {
   "cell_type": "code",
   "execution_count": null,
   "id": "d72a5fc1",
   "metadata": {},
   "outputs": [],
   "source": [
    "#Load cleand data \n",
    "import pandas as pd\n",
    "import csv\n",
    "df = pd.read_csv(r\"C:\\Users\\P\\Desktop\\my-project\\Data\\Clened\\cleaned_laptop_data.csv\")"
   ]
  },
  {
   "cell_type": "code",
   "execution_count": null,
   "id": "5dbf0322",
   "metadata": {},
   "outputs": [],
   "source": [
    "# feature & target split here \n",
    "X = df.drop('price',axis=1) #features\n",
    "y = df['price'] # target"
   ]
  },
  {
   "cell_type": "code",
   "execution_count": null,
   "id": "3af815b7",
   "metadata": {},
   "outputs": [],
   "source": [
    "# train test split here\n",
    "from sklearn.model_selection import train_test_split\n",
    "X_train, X_test, y_train, y_test = train_test_split(X,y,test_size=0.2,random_state=0)"
   ]
  },
  {
   "cell_type": "code",
   "execution_count": null,
   "id": "bcdedda7",
   "metadata": {},
   "outputs": [],
   "source": [
    "# test our data by model_1\n",
    "from sklearn.linear_model import LinearRegression\n",
    "liner_reg_obj = LinearRegression()\n",
    "model_1 = liner_reg_obj.fit(X_train,y_train)"
   ]
  },
  {
   "cell_type": "code",
   "execution_count": 24,
   "id": "aa47a155",
   "metadata": {},
   "outputs": [
    {
     "data": {
      "text/plain": [
       "0.5823808109008453"
      ]
     },
     "execution_count": 24,
     "metadata": {},
     "output_type": "execute_result"
    }
   ],
   "source": [
    "model_1.score(X_test,y_test)"
   ]
  },
  {
   "cell_type": "code",
   "execution_count": null,
   "id": "97b71049",
   "metadata": {},
   "outputs": [],
   "source": [
    "# test our data by model_2\n"
   ]
  }
 ],
 "metadata": {
  "kernelspec": {
   "display_name": "base",
   "language": "python",
   "name": "python3"
  },
  "language_info": {
   "codemirror_mode": {
    "name": "ipython",
    "version": 3
   },
   "file_extension": ".py",
   "mimetype": "text/x-python",
   "name": "python",
   "nbconvert_exporter": "python",
   "pygments_lexer": "ipython3",
   "version": "3.13.5"
  }
 },
 "nbformat": 4,
 "nbformat_minor": 5
}
