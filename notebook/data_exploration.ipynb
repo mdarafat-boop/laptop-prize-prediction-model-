{
 "cells": [
  {
   "cell_type": "code",
   "execution_count": 2,
   "id": "9a0d2ca3",
   "metadata": {},
   "outputs": [],
   "source": [
    "import pandas as pd\n",
    "import csv\n",
    "data_set = pd.read_csv(r\"C:\\Users\\P\\Desktop\\my-project\\Data\\Row\\lap_data.csv\") #csv file load from my local machine"
   ]
  },
  {
   "cell_type": "code",
   "execution_count": null,
   "id": "13e4c532",
   "metadata": {},
   "outputs": [],
   "source": [
    "data_set.columns \n",
    "#['brand', 'price', 'processor', 'CPU', 'Ram', 'ROM', 'display_size','resolution_width', 'resolution_height', 'OS', 'warranty']'processor'processor"
   ]
  },
  {
   "cell_type": "code",
   "execution_count": null,
   "id": "b86dba0c",
   "metadata": {},
   "outputs": [],
   "source": [
    "# delete unnassasary columns \n",
    "data_set.drop(['Unnamed: 0.1','Unnamed: 0','spec_rating','warranty','name','resolution_height','resolution_width','GPU','CPU','ROM_type','Ram_type'],axis=1,inplace=True)"
   ]
  },
  {
   "cell_type": "code",
   "execution_count": null,
   "id": "0c9ac10d",
   "metadata": {},
   "outputs": [],
   "source": [
    "#for lopping\n",
    "Ram_ = []\n",
    "for value in data_set['Ram']:\n",
    "    value = value.replace('GB','')\n",
    "\n",
    "    Ram_.append(float(value))\n",
    "\n",
    "data_set['Ram'] = Ram_"
   ]
  },
  {
   "cell_type": "code",
   "execution_count": null,
   "id": "8d16b4aa",
   "metadata": {},
   "outputs": [],
   "source": [
    "#replace\n",
    "data_set['ROM'] = data_set['ROM'].replace({1: 1024, 2: 2048, 0.5: 512})"
   ]
  },
  {
   "cell_type": "code",
   "execution_count": null,
   "id": "c05fde22",
   "metadata": {},
   "outputs": [],
   "source": [
    "#for lopping\n",
    "Rom_ = []\n",
    "for value in data_set['ROM']:\n",
    "    value = value.replace('GB','')\n",
    "    value = value.replace('TB','')\n",
    "    Rom_.append(float(value))\n",
    "\n",
    "data_set['ROM'] = Rom_\n",
    "\n",
    "data_set['ROM'] = data_set['ROM'].replace({1: 1024,2: 2048,0.5: 512})"
   ]
  },
  {
   "cell_type": "code",
   "execution_count": null,
   "id": "3942396c",
   "metadata": {},
   "outputs": [],
   "source": [
    "#ploting here for see distribution \n",
    "import matplotlib.pyplot as plt\n",
    "import seaborn as sns\n",
    "#rom vs price ... kind = 'bar' , 'box'\n",
    "sns.catplot(y='price',x='ROM',data=data_set.sort_values('price',ascending = False),kind='bar',height=6,aspect=3)"
   ]
  },
  {
   "cell_type": "code",
   "execution_count": null,
   "id": "c0cd29f0",
   "metadata": {},
   "outputs": [],
   "source": [
    "# ram vs prize\n",
    "sns.catplot(y='price',x='Ram',data=data_set.sort_values('price',ascending = False),kind='bar',height=6,aspect=3)"
   ]
  },
  {
   "cell_type": "code",
   "execution_count": null,
   "id": "7bc7e2a2",
   "metadata": {},
   "outputs": [],
   "source": [
    "# one hot encoding here\n",
    "data_set = pd.get_dummies(data_set, columns=['brand', 'processor', 'OS'])"
   ]
  },
  {
   "cell_type": "code",
   "execution_count": null,
   "id": "c174fe3a",
   "metadata": {},
   "outputs": [],
   "source": [
    "# null check\n",
    "data_set.isna().sum() # 0 null value eatch column"
   ]
  },
  {
   "cell_type": "code",
   "execution_count": null,
   "id": "f7c97302",
   "metadata": {},
   "outputs": [],
   "source": [
    "data_set.to_csv('cleaned_laptop_data.csv',index=False)"
   ]
  }
 ],
 "metadata": {
  "kernelspec": {
   "display_name": "base",
   "language": "python",
   "name": "python3"
  },
  "language_info": {
   "codemirror_mode": {
    "name": "ipython",
    "version": 3
   },
   "file_extension": ".py",
   "mimetype": "text/x-python",
   "name": "python",
   "nbconvert_exporter": "python",
   "pygments_lexer": "ipython3",
   "version": "3.13.5"
  }
 },
 "nbformat": 4,
 "nbformat_minor": 5
}
