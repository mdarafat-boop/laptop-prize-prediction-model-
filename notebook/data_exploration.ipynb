{
 "cells": [
  {
   "cell_type": "code",
   "execution_count": 1,
   "id": "9a0d2ca3",
   "metadata": {},
   "outputs": [],
   "source": [
    "import pandas as pd\n",
    "import csv\n",
    "data_set = pd.read_csv(r\"C:\\Users\\P\\Desktop\\my-project\\Data\\Row\\lap_data.csv\") #csv file load from my local machine"
   ]
  },
  {
   "cell_type": "code",
   "execution_count": null,
   "id": "13e4c532",
   "metadata": {},
   "outputs": [],
   "source": [
    "data_set.columns \n",
    "#['brand', 'price', 'processor', 'CPU', 'Ram', 'ROM', 'display_size','resolution_width', 'resolution_height', 'OS', 'warranty']'processor'processor"
   ]
  },
  {
   "cell_type": "code",
   "execution_count": 2,
   "id": "b86dba0c",
   "metadata": {},
   "outputs": [],
   "source": [
    "# delete unnassasary columns \n",
    "data_set.drop(['Unnamed: 0.1','Unnamed: 0','spec_rating','warranty','name','resolution_height','resolution_width','GPU','CPU','display_size','ROM_type','Ram_type'],axis=1,inplace=True)"
   ]
  },
  {
   "cell_type": "code",
   "execution_count": 3,
   "id": "9c532338",
   "metadata": {},
   "outputs": [
    {
     "data": {
      "text/plain": [
       "brand\n",
       "HP           186\n",
       "Lenovo       169\n",
       "Asus         157\n",
       "Dell         107\n",
       "Acer          84\n",
       "MSI           65\n",
       "Samsung       28\n",
       "Apple         16\n",
       "Infinix       15\n",
       "LG             9\n",
       "Xiaomi         8\n",
       "Gigabyte       8\n",
       "Fujitsu        6\n",
       "Ultimus        4\n",
       "Zebronics      4\n",
       "Wings          3\n",
       "Tecno          3\n",
       "Realme         3\n",
       "Chuwi          3\n",
       "Honor          2\n",
       "AXL            2\n",
       "Huawei         2\n",
       "Microsoft      2\n",
       "Avita          1\n",
       "Ninkear        1\n",
       "Razer          1\n",
       "Primebook      1\n",
       "Vaio           1\n",
       "Walker         1\n",
       "iBall          1\n",
       "Name: count, dtype: int64"
      ]
     },
     "execution_count": 3,
     "metadata": {},
     "output_type": "execute_result"
    }
   ],
   "source": [
    "data_set.value_counts('brand') #count brands"
   ]
  }
 ],
 "metadata": {
  "kernelspec": {
   "display_name": "base",
   "language": "python",
   "name": "python3"
  },
  "language_info": {
   "codemirror_mode": {
    "name": "ipython",
    "version": 3
   },
   "file_extension": ".py",
   "mimetype": "text/x-python",
   "name": "python",
   "nbconvert_exporter": "python",
   "pygments_lexer": "ipython3",
   "version": "3.13.5"
  }
 },
 "nbformat": 4,
 "nbformat_minor": 5
}
