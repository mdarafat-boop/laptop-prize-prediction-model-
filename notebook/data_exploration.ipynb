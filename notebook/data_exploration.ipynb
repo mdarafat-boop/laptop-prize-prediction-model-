{
 "cells": [
  {
   "cell_type": "code",
   "execution_count": null,
   "id": "9a0d2ca3",
   "metadata": {},
   "outputs": [],
   "source": [
    "import pandas as pd\n",
    "import csv\n",
    "data_set = pd.read_csv(r\"C:\\Users\\P\\Desktop\\my-project\\lap_data.csv\") #csv file load from my local machine"
   ]
  },
  {
   "cell_type": "code",
   "execution_count": null,
   "id": "13e4c532",
   "metadata": {},
   "outputs": [],
   "source": [
    "data_set.columns \n",
    "#['brand', 'price', 'processor', 'CPU', 'Ram', 'ROM', 'display_size','resolution_width', 'resolution_height', 'OS', 'warranty']'processor'processor"
   ]
  },
  {
   "cell_type": "code",
   "execution_count": null,
   "id": "b86dba0c",
   "metadata": {},
   "outputs": [],
   "source": [
    "# delete unnassasary columns \n",
    "data_set.drop(['Unnamed: 0.1','Unnamed: 0','spec_rating','warranty','name','resolution_height','resolution_width','GPU','CPU','display_size','ROM_type','Ram_type'],axis=1,inplace=True)"
   ]
  },
  {
   "cell_type": "code",
   "execution_count": null,
   "id": "9c532338",
   "metadata": {},
   "outputs": [],
   "source": [
    "data_set.value_counts('brand') #count brands"
   ]
  }
 ],
 "metadata": {
  "kernelspec": {
   "display_name": "base",
   "language": "python",
   "name": "python3"
  },
  "language_info": {
   "codemirror_mode": {
    "name": "ipython",
    "version": 3
   },
   "file_extension": ".py",
   "mimetype": "text/x-python",
   "name": "python",
   "nbconvert_exporter": "python",
   "pygments_lexer": "ipython3",
   "version": "3.13.5"
  }
 },
 "nbformat": 4,
 "nbformat_minor": 5
}
